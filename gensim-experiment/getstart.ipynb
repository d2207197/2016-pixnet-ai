{
 "cells": [
  {
   "cell_type": "code",
   "execution_count": 1,
   "metadata": {
    "collapsed": false
   },
   "outputs": [],
   "source": [
    "import os, gensim, re\n",
    "import numpy as np\n",
    "class MySentences(object):\n",
    "    def __init__(self, dirname):\n",
    "        self.dirname = dirname\n",
    " \n",
    "    def __iter__(self):\n",
    "        for fname in os.listdir(self.dirname):\n",
    "            with open(self.dirname + '/' + fname, 'r') as f:\n",
    "                context = f.read()\n",
    "            sentences = self.clean_context(context)[40 : -3]\n",
    "            for s in sentences:\n",
    "                yield s\n",
    "            \n",
    "    def clean_context(self, context):\n",
    "        words = re.sub('[\\r]|[\\n]', ' ', context)\n",
    "        words = re.sub('([a-z0-9])(\\W{2,})', r'\\1 \\2', words)\n",
    "        words = re.sub('(\\W{2,})([a-zA-z0-9])', r'\\1 \\2', words)\n",
    "        words = re.sub('\\s+', ' ', words)\n",
    "        words = re.sub('\\W{3,}', '\\n', words)\n",
    "        raw = words.split('\\n')\n",
    "        sentences = []\n",
    "        for r in raw:\n",
    "            s = r.split(' ')\n",
    "            if len(s) > 3:\n",
    "                sentences.append(s)\n",
    "        return sentences\n",
    "    def get_sentences(self):\n",
    "        for fname in os.listdir(self.dirname):\n",
    "            with open(self.dirname + '/' + fname, 'r') as f:\n",
    "                context = f.read()\n",
    "            sentences = self.clean_context(context)[40 : -3]\n",
    "            for s in sentences:\n",
    "                if len(s) > 5:\n",
    "                    yield s\n",
    "redundantWord = ['the', 'a']\n",
    "                    \n",
    "def cloze_test(string, index, candidates):\n",
    "    temp = string[:]\n",
    "#     print temp[index]\n",
    "    del temp[index]\n",
    "    nc = len(candidates)\n",
    "    nw = len(temp)\n",
    "    arr = np.zeros((nc, nw))\n",
    "#     weight = np.zeros(nw)\n",
    "    for j in xrange(nw):\n",
    "#         weight[j] = index - abs(index - j)\n",
    "        for i in xrange(nc):\n",
    "            if len(candidates[i]) <= 4:\n",
    "                continue\n",
    "            if temp[j] not in redundantWord:\n",
    "                if temp[j] in model.vocab and candidates[i] in model.vocab:\n",
    "                    if temp[j] != candidates[i]:\n",
    "                        arr[i, j] = model.similarity(candidates[i], temp[j])\n",
    "        l, r = arr[:, j].min(), arr[:, j].max()\n",
    "        if r > l:\n",
    "            arr[:, j] = (arr[:, j] - l) / (r - l)\n",
    "    return arr\n",
    "#     weight[j] /= float(index)\n",
    "#     return np.dot(arr, weight)"
   ]
  },
  {
   "cell_type": "code",
   "execution_count": 279,
   "metadata": {
    "collapsed": false
   },
   "outputs": [],
   "source": [
    "sentences = MySentences('harry_potter')\n",
    "model = gensim.models.Word2Vec(sentences, window = 3, min_count = 10, size = 100, iter = 100)"
   ]
  },
  {
   "cell_type": "code",
   "execution_count": 350,
   "metadata": {
    "collapsed": false,
    "scrolled": true
   },
   "outputs": [
    {
     "data": {
      "text/plain": [
       "[('Voldemort', 0.5814064741134644),\n",
       " ('Quirrell', 0.5672532320022583),\n",
       " ('McGonagall', 0.5618100166320801),\n",
       " ('Snape', 0.558242678642273),\n",
       " ('Slughorn', 0.5175069570541382),\n",
       " ('Trelawney', 0.5160765647888184),\n",
       " ('Moody', 0.5088180899620056),\n",
       " ('You-Know-Who', 0.4961373805999756),\n",
       " ('Fudge', 0.4755627512931824),\n",
       " ('Sprout', 0.47143012285232544)]"
      ]
     },
     "execution_count": 350,
     "metadata": {},
     "output_type": "execute_result"
    }
   ],
   "source": [
    "model.most_similar(positive = ['Malfoy', 'Dumbledore'], negative = ['Harry'], topn = 10)"
   ]
  },
  {
   "cell_type": "code",
   "execution_count": 349,
   "metadata": {
    "collapsed": false
   },
   "outputs": [
    {
     "data": {
      "text/plain": [
       "0.23077564783587678"
      ]
     },
     "execution_count": 349,
     "metadata": {},
     "output_type": "execute_result"
    }
   ],
   "source": [
    "model.similarity('Harry', 'Peter')"
   ]
  },
  {
   "cell_type": "code",
   "execution_count": 214,
   "metadata": {
    "collapsed": false
   },
   "outputs": [],
   "source": [
    "sentences = MySentences('harry_potter')\n",
    "model.train(sentences)"
   ]
  },
  {
   "cell_type": "code",
   "execution_count": 234,
   "metadata": {
    "collapsed": false,
    "scrolled": true
   },
   "outputs": [
    {
     "data": {
      "text/plain": [
       "[('he', 0.6603592038154602),\n",
       " ('He', 0.5858224034309387),\n",
       " ('Hermione', 0.4437968134880066),\n",
       " ('she', 0.4352525472640991),\n",
       " ('Frank', 0.38196608424186707),\n",
       " ('him', 0.3726317882537842),\n",
       " ('Ron', 0.36592867970466614),\n",
       " ('they', 0.3517574667930603),\n",
       " ('Hagrid', 0.34963470697402954),\n",
       " ('Dumbledore', 0.3127173185348511)]"
      ]
     },
     "execution_count": 234,
     "metadata": {},
     "output_type": "execute_result"
    }
   ],
   "source": [
    "model.most_similar(positive = ['Harry'], topn = 10)"
   ]
  },
  {
   "cell_type": "code",
   "execution_count": 268,
   "metadata": {
    "collapsed": false
   },
   "outputs": [
    {
     "name": "stdout",
     "output_type": "stream",
     "text": [
      "4846\n",
      "['Aylar']\n"
     ]
    }
   ],
   "source": [
    "# 4846 vocabs\n",
    "print len(model.vocab)\n",
    "print list(model.vocab)[:1]"
   ]
  },
  {
   "cell_type": "code",
   "execution_count": 376,
   "metadata": {
    "collapsed": false
   },
   "outputs": [
    {
     "data": {
      "text/plain": [
       "0.65237136780624727"
      ]
     },
     "execution_count": 376,
     "metadata": {},
     "output_type": "execute_result"
    }
   ],
   "source": [
    "model.similarity('man', 'boy')"
   ]
  },
  {
   "cell_type": "code",
   "execution_count": 11,
   "metadata": {
    "collapsed": false,
    "scrolled": true
   },
   "outputs": [
    {
     "data": {
      "text/plain": [
       "[('Harry', 0.6313201785087585),\n",
       " ('he', 0.5895937085151672),\n",
       " ('Neville', 0.5751792192459106),\n",
       " ('Cho', 0.5731143355369568),\n",
       " ('him', 0.5708431601524353),\n",
       " ('Snape', 0.5683074593544006),\n",
       " ('Hermione', 0.5656015872955322),\n",
       " ('Ginny', 0.5607053637504578),\n",
       " ('Tci', 0.5568682551383972),\n",
       " ('Hagrid', 0.5517871379852295)]"
      ]
     },
     "execution_count": 11,
     "metadata": {},
     "output_type": "execute_result"
    }
   ],
   "source": [
    "# test = 'though could not remember the name'.split(' ')\n",
    "model.most_similar('Malfoy')"
   ]
  },
  {
   "cell_type": "code",
   "execution_count": 9,
   "metadata": {
    "collapsed": false
   },
   "outputs": [],
   "source": [
    "# model.save('w2v_harry_potter')"
   ]
  },
  {
   "cell_type": "code",
   "execution_count": 2,
   "metadata": {
    "collapsed": true
   },
   "outputs": [],
   "source": [
    "model = gensim.models.Word2Vec.load('w2v_harry_potter')"
   ]
  },
  {
   "cell_type": "code",
   "execution_count": 11,
   "metadata": {
    "collapsed": false
   },
   "outputs": [
    {
     "data": {
      "text/plain": [
       "6381"
      ]
     },
     "execution_count": 11,
     "metadata": {},
     "output_type": "execute_result"
    }
   ],
   "source": [
    "# model.index2word[:10]  # 100\n",
    "# v = gensim.models.word2vec.Vocab(a = 5, b = 3, c = 'asf', b_bb = '10')\n",
    "# v.__str__()\n",
    "model.vocab['I'].count"
   ]
  },
  {
   "cell_type": "code",
   "execution_count": 270,
   "metadata": {
    "collapsed": false
   },
   "outputs": [],
   "source": [
    "# 43546 lines\n",
    "sentences = MySentences('harry_potter').get_sentences()\n",
    "with open('sentences.txt', 'w') as f:\n",
    "    for s in sentences:\n",
    "        if len(s) <= 10:\n",
    "            for w in s:\n",
    "                f.write(w+',')\n",
    "            f.write('\\n')\n",
    "    "
   ]
  },
  {
   "cell_type": "code",
   "execution_count": null,
   "metadata": {
    "collapsed": false
   },
   "outputs": [],
   "source": []
  },
  {
   "cell_type": "code",
   "execution_count": 76,
   "metadata": {
    "collapsed": false
   },
   "outputs": [
    {
     "name": "stdout",
     "output_type": "stream",
     "text": [
      "0.389 , 0.296\n",
      "0.403 , 0.273\n",
      "0.393 , 0.231\n",
      "0.378 , 0.275\n",
      "0.405 , 0.254\n",
      "0.386 , 0.249\n",
      "0.406 , 0.252\n",
      "0.398 , 0.244\n",
      "0.362 , 0.262\n",
      "0.422 , 0.255\n"
     ]
    }
   ],
   "source": [
    "import random\n",
    "\n",
    "def make_cloze(num):\n",
    "    idx = range(0, 43546)\n",
    "    random.shuffle(idx)\n",
    "    idx = sorted(set(idx[: num]))\n",
    "    \n",
    "    curr_idx = 0\n",
    "    sentences = []\n",
    "    with open('sentences.txt', 'r') as f:\n",
    "        for i in idx:\n",
    "            for j in xrange(i - curr_idx): f.next()\n",
    "            sentences.append(f.next().split(',')[:-1])\n",
    "            curr_idx = i + 1\n",
    "    ;\n",
    "    options = []\n",
    "    keys = model.vocab.keys()\n",
    "    for s in sentences:\n",
    "        l = len(s)\n",
    "        idx = range(0, 4846)\n",
    "        random.shuffle(idx)\n",
    "        \n",
    "        candidate = [keys[i] for i in idx[:3]]\n",
    "        count = 0\n",
    "        while count < 10:\n",
    "            i = random.randint(0, l - 1)\n",
    "            if len(s[i]) > 4 or count == 9:\n",
    "                options.append((i, [s[i]] + candidate))\n",
    "                break\n",
    "            count += 1\n",
    "        \n",
    "                \n",
    "    return sentences, options\n",
    "\n",
    "\n",
    "def cloze_test2(string, index, candidates):\n",
    "    temp = string[:]\n",
    "    del temp[index]\n",
    "    ref_vec = np.zeros(100)\n",
    "    l = 0\n",
    "    for w in temp:\n",
    "        if w in model.vocab:\n",
    "            ref_vec += model[w]\n",
    "            l += 1\n",
    "    ref_vec /= float(l)\n",
    "    ref_vec = ref_vec / np.linalg.norm(ref_vec)\n",
    "    nc = len(candidates)\n",
    "    arr = np.zeros(nc)\n",
    "    for i in xrange(nc):\n",
    "        if len(candidates[i]) <= 4 or candidates[i] in temp:\n",
    "            continue\n",
    "        if candidates[i] in model.vocab:\n",
    "            cand_vec = model[candidates[i]]\n",
    "            arr[i] = (ref_vec * (cand_vec / np.linalg.norm(cand_vec))).sum()\n",
    "#     l, r = arr[:, j].min(), arr[:, j].max()\n",
    "#     if r > l:\n",
    "#         arr[:, j] = (arr[:, j] - l) / (r - l)\n",
    "    return arr\n",
    "\n",
    "\n",
    "def cal_score(sentences, options):\n",
    "    n = len(sentences)\n",
    "    s = 0.\n",
    "    ref = 0.\n",
    "    for i in xrange(n):\n",
    "#         print sentences[i]\n",
    "#         print options[i][0], options[i][1]\n",
    "        b = cloze_test2(sentences[i], options[i][0], options[i][1])\n",
    "        if b.argmax() == 0: s += 1.\n",
    "        if random.randint(0, 3) == 0: ref += 1.\n",
    "    return s/float(n), ref/float(n)\n",
    "\n",
    "for i in xrange(10):\n",
    "    sentences, options = make_cloze(1000)\n",
    "    score, ref = cal_score(sentences, options)\n",
    "    print score, ',', ref"
   ]
  },
  {
   "cell_type": "code",
   "execution_count": 65,
   "metadata": {
    "collapsed": false
   },
   "outputs": [
    {
     "data": {
      "text/plain": [
       "[('me', 0.6290419101715088),\n",
       " ('you', 0.580627977848053),\n",
       " ('boy', 0.547135591506958),\n",
       " ('is', 0.5445059537887573),\n",
       " ('to', 0.5434709787368774),\n",
       " ('us', 0.5378933548927307),\n",
       " ('ll', 0.47368937730789185),\n",
       " ('t', 0.4723420739173889),\n",
       " ('You', 0.44806158542633057),\n",
       " ('I', 0.4452311396598816)]"
      ]
     },
     "execution_count": 65,
     "metadata": {},
     "output_type": "execute_result"
    }
   ],
   "source": [
    "# a =['until','the','Cup','is'] # World\n",
    "a = ['boy','is','to','me'] # nothing\n",
    "# a = ['man','could','to','snakes'] # talk\n",
    "# a = ['Frank',\"didn't\",'what','was'] # understand\n",
    "b = [model[x] / np.linalg.norm(model[x]) for x in a]\n",
    "c = np.asarray(b).mean(axis = 0)\n",
    "model.most_similar([c])"
   ]
  },
  {
   "cell_type": "code",
   "execution_count": 6,
   "metadata": {
    "collapsed": false
   },
   "outputs": [
    {
     "data": {
      "text/plain": [
       "4"
      ]
     },
     "execution_count": 6,
     "metadata": {},
     "output_type": "execute_result"
    }
   ],
   "source": [
    "arr = np.array([2.22,3.33,0,8.9,9.0])\n",
    "arr.argmax()"
   ]
  },
  {
   "cell_type": "code",
   "execution_count": 61,
   "metadata": {
    "collapsed": false
   },
   "outputs": [
    {
     "data": {
      "text/plain": [
       "array([[ 0.28867513,  0.28867513,  0.28867513],\n",
       "       [ 0.28867513,  0.28867513,  0.28867513]])"
      ]
     },
     "execution_count": 61,
     "metadata": {},
     "output_type": "execute_result"
    }
   ],
   "source": [
    "arr = np.ones((2,3))\n",
    "# arr_norm = arr / \n",
    "arr /  (np.dot(np.linalg.norm(arr, axis = 1), np.ones(arr.shape)))\n",
    "# np.ones(arr.shape)"
   ]
  },
  {
   "cell_type": "code",
   "execution_count": null,
   "metadata": {
    "collapsed": false
   },
   "outputs": [],
   "source": [
    "arr = np.asarray([1,2,3,4])\n",
    "(arr * arr).sum()"
   ]
  },
  {
   "cell_type": "code",
   "execution_count": null,
   "metadata": {
    "collapsed": true
   },
   "outputs": [],
   "source": []
  }
 ],
 "metadata": {
  "kernelspec": {
   "display_name": "Python 2",
   "language": "python",
   "name": "python2"
  },
  "language_info": {
   "codemirror_mode": {
    "name": "ipython",
    "version": 2
   },
   "file_extension": ".py",
   "mimetype": "text/x-python",
   "name": "python",
   "nbconvert_exporter": "python",
   "pygments_lexer": "ipython2",
   "version": "2.7.6"
  }
 },
 "nbformat": 4,
 "nbformat_minor": 0
}
