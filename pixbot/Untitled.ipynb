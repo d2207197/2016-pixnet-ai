{
 "cells": [
  {
   "cell_type": "code",
   "execution_count": 27,
   "metadata": {
    "collapsed": false
   },
   "outputs": [],
   "source": [
    "from urllib.parse import quote\n",
    "from urllib import request\n",
    "import codecs\n",
    "import re, html\n",
    "from os import listdir\n",
    "from os.path import isfile, join\n",
    "\n",
    "class GoogleCrawler(object):\n",
    "    def __init__(self, sample, max_padding = 18):\n",
    "        for (no, content, a, b, c, d, e) in re.findall(r'\\[(\\d+)\\](.*)### a:(.*), b:(.*), c:(.*), d:(.*), e:(.*)\\[END\\]', sample):\n",
    "            self.no = int(no)\n",
    "            content = re.sub('(\")(.)', r'\\2', content.strip())\n",
    "            self.raw_query = content.replace('︽⊙＿⊙︽', '*')\n",
    "            self.raw_pattern = re.sub(r'\\s+', '\\\\s?', content.replace('︽⊙＿⊙︽', '(.*?)'))\n",
    "            self.options = [x.strip() for x in [a, b, c, d, e]]\n",
    "            break\n",
    "        self.max_padding = max_padding\n",
    "        self.short_query = self.make_short_string(self.raw_query, '*')\n",
    "        self.short_pattern = self.make_short_string(self.raw_pattern, '(.*?)')\n",
    "        \n",
    "    def set_padding(self, padding):\n",
    "        self.max_padding = padding\n",
    "        self.short_query = self.make_short_string(self.raw_query, '*')\n",
    "        self.short_pattern = self.make_short_string(self.raw_pattern, '(.*?)')\n",
    "\n",
    "    def get_link(self, query = None):\n",
    "        if query == None: query = self.short_query\n",
    "        if self.link == None:\n",
    "            self.link = \"https://www.google.com.tw/search?q=\" + quote(query) + '&lr=lang_zh-TW'\n",
    "        return self.link\n",
    "\n",
    "    def make_short_string(self, string, pattern):\n",
    "        pattern_len = len(pattern)\n",
    "        string_len = len(string)\n",
    "        idx = string.find(pattern)\n",
    "        left_bound = idx - self.max_padding\n",
    "        right_bound = idx + pattern_len + self.max_padding\n",
    "        if left_bound < 0: left_bound = 0\n",
    "        if right_bound >= string_len : right_bound = string_len\n",
    "            \n",
    "        if idx - left_bound <= 1: left_bound = idx\n",
    "        if right_bound - (idx + pattern_len) == 1: right_bound = right_bound - 1\n",
    "        return string[left_bound : right_bound]\n",
    "    \n",
    "    def search_answer(self):\n",
    "        cleaned_content = self.clean_html(self.google_crawl(self.short_query))\n",
    "        for (m) in re.findall(self.short_pattern, cleaned_content):\n",
    "            ans = m.strip().lower()\n",
    "#             print(ans)\n",
    "            if ans in self.options:\n",
    "                return (self.options.index(ans), ans)\n",
    "                break\n",
    "    \n",
    "    def search_fast_answer(self):\n",
    "        raw_html = self.google_crawl(self.short_query).lower()\n",
    "        for x in self.options:\n",
    "            if raw_html.find(x) > 0:\n",
    "                return (self.options.index(x), x)\n",
    "        \n",
    "    def google_crawl(self, query = None):\n",
    "        if query == None: query = self.short_query\n",
    "        self.link = \"https://www.google.com.tw/search?q=\" + quote(query) + '&lr=lang_zh-TW'\n",
    "        req = request.Request(self.link, headers = {'User-Agent' : \"Magic Browser\"})\n",
    "        try:\n",
    "            raw = request.urlopen(req).read().decode('cp950')\n",
    "        except:\n",
    "            raw = request.urlopen(req).read().decode('big5')\n",
    "        return raw\n",
    "    \n",
    "    def clean_html(self, raw_html = None):\n",
    "        if raw_html == None: raw_html = self.google_crawl(self.short_query)\n",
    "        raw_html = raw_html.replace(self.short_query , '')\n",
    "        try:\n",
    "            unescaped_html = html.unescape(raw_html)\n",
    "        except:\n",
    "            unescaped_html = raw_html\n",
    "        clean_html = re.sub(re.compile(r'(<br?>)|(</br?>)|\\n|\\r|\\s'), '', unescaped_html.lower())\n",
    "        return clean_html"
   ]
  },
  {
   "cell_type": "code",
   "execution_count": 30,
   "metadata": {
    "collapsed": false
   },
   "outputs": [
    {
     "name": "stdout",
     "output_type": "stream",
     "text": [
      "0.8210526315789474\n"
     ]
    }
   ],
   "source": [
    "path = 'question_samples/'\n",
    "sample_files = [f for f in listdir(path) if isfile(join(path, f))]\n",
    "i, j = 0, 0\n",
    "for file in sample_files:\n",
    "    with codecs.open(path + file, encoding='utf-8') as f:\n",
    "        for line in f:\n",
    "            if line.find('[END]') >= 0:\n",
    "                crawler = GoogleCrawler(line)\n",
    "                try:\n",
    "                    ans = crawler.search_fast_answer()\n",
    "                    if ans == None:\n",
    "                        j += 1\n",
    "#                     else:\n",
    "#                         print(ans)\n",
    "                except:\n",
    "                    j += 1\n",
    "                i += 1\n",
    "print(1. - float(j) / float(i))\n",
    "                \n",
    "# for i in range(20):\n",
    "#     print(i)\n",
    "#     question = samples[i]\n",
    "#     crawler = GoogleCrawler(question)\n",
    "#     print('{}\\n{}'.format(crawler.short_query, crawler.short_pattern))    \n",
    "#     print(crawler.search_fast_answer())\n",
    "#     print('----------')"
   ]
  },
  {
   "cell_type": "code",
   "execution_count": 23,
   "metadata": {
    "collapsed": false
   },
   "outputs": [
    {
     "name": "stdout",
     "output_type": "stream",
     "text": [
      "2\n"
     ]
    }
   ],
   "source": []
  }
 ],
 "metadata": {
  "kernelspec": {
   "display_name": "Python 3",
   "language": "python",
   "name": "python3"
  },
  "language_info": {
   "codemirror_mode": {
    "name": "ipython",
    "version": 3
   },
   "file_extension": ".py",
   "mimetype": "text/x-python",
   "name": "python",
   "nbconvert_exporter": "python",
   "pygments_lexer": "ipython3",
   "version": "3.5.1"
  }
 },
 "nbformat": 4,
 "nbformat_minor": 0
}
